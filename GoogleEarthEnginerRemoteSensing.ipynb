{
  "nbformat": 4,
  "nbformat_minor": 0,
  "metadata": {
    "colab": {
      "provenance": [],
      "authorship_tag": "ABX9TyM/rQ8USM5Tsl8vkbDXw20P",
      "include_colab_link": true
    },
    "kernelspec": {
      "name": "python3",
      "display_name": "Python 3"
    },
    "language_info": {
      "name": "python"
    }
  },
  "cells": [
    {
      "cell_type": "markdown",
      "metadata": {
        "id": "view-in-github",
        "colab_type": "text"
      },
      "source": [
        "<a href=\"https://colab.research.google.com/github/ElijahWandimi/RemoteSensing-Learning/blob/master/GoogleEarthEnginerRemoteSensing.ipynb\" target=\"_parent\"><img src=\"https://colab.research.google.com/assets/colab-badge.svg\" alt=\"Open In Colab\"/></a>"
      ]
    },
    {
      "cell_type": "code",
      "execution_count": 19,
      "metadata": {
        "id": "QlNx3JZGegxE"
      },
      "outputs": [],
      "source": [
        "import pandas as pd\n",
        "import geopandas as gpd\n",
        "import matplotlib.pyplot as plt\n",
        "import ee\n",
        "import folium\n",
        "from IPython.display import display, Image"
      ]
    },
    {
      "cell_type": "code",
      "source": [
        "ee.Authenticate()\n",
        "ee.Initialize()"
      ],
      "metadata": {
        "colab": {
          "base_uri": "https://localhost:8080/"
        },
        "id": "KI6HHcHOt11h",
        "outputId": "855a9d0d-26a1-47e2-8bc6-15e78f3a6fea"
      },
      "execution_count": 2,
      "outputs": [
        {
          "output_type": "stream",
          "name": "stdout",
          "text": [
            "To authorize access needed by Earth Engine, open the following URL in a web browser and follow the instructions. If the web browser does not start automatically, please manually browse the URL below.\n",
            "\n",
            "    https://code.earthengine.google.com/client-auth?scopes=https%3A//www.googleapis.com/auth/earthengine%20https%3A//www.googleapis.com/auth/devstorage.full_control&request_id=z9neCyYA0EvFYi_uPpZqaKfY4vqLf-EnR7l2_iI94Ac&tc=wfNtONWTLKH5DDCnPvHc4hnyLTWg_wNPruEIjERQUt4&cc=eD3maRkpHN35gs5wdHr8TKvMGp-IXRf7x8y_3j_WUJk\n",
            "\n",
            "The authorization workflow will generate a code, which you should paste in the box below.\n",
            "Enter verification code: 4/1AfJohXm0wGsp8p-FjFdRp1GZ2eJXGNyTevU48dYdh-fXeKrRs2BeE70-878\n",
            "\n",
            "Successfully saved authorization token.\n"
          ]
        }
      ]
    },
    {
      "cell_type": "code",
      "source": [
        "lat = -0.077199\n",
        "lon = 37.4041\n",
        "poi = ee.Geometry.Point(lon, lat)\n",
        "start_date, end_date = '2021-10-01', '2023-10-01'"
      ],
      "metadata": {
        "id": "C8frTsbvu8yZ"
      },
      "execution_count": 3,
      "outputs": []
    },
    {
      "cell_type": "code",
      "source": [
        "# get the data\n",
        "landsat = ee.ImageCollection(\"LANDSAT/LC08/C02/T1_L2\")\\\n",
        "          .filterBounds(poi)\\\n",
        "          .filterDate(start_date, end_date)"
      ],
      "metadata": {
        "id": "YYCc0qm4TNXd"
      },
      "execution_count": 4,
      "outputs": []
    },
    {
      "cell_type": "code",
      "source": [
        "print(f\">>> Total number of images: {landsat.size().getInfo()}\")"
      ],
      "metadata": {
        "colab": {
          "base_uri": "https://localhost:8080/"
        },
        "id": "HA24CoHpWstE",
        "outputId": "f9671d3a-7004-4603-e61f-637072166a6f"
      },
      "execution_count": 5,
      "outputs": [
        {
          "output_type": "stream",
          "name": "stdout",
          "text": [
            ">>> Total number of images: 45\n"
          ]
        }
      ]
    },
    {
      "cell_type": "code",
      "source": [
        "landsat.first().getInfo()"
      ],
      "metadata": {
        "colab": {
          "base_uri": "https://localhost:8080/"
        },
        "id": "9c9xOd7dW9gi",
        "outputId": "ab06f9fd-3de3-4d70-c6ed-0c97afdaed5f"
      },
      "execution_count": 6,
      "outputs": [
        {
          "output_type": "execute_result",
          "data": {
            "text/plain": [
              "{'type': 'Image',\n",
              " 'bands': [{'id': 'SR_B1',\n",
              "   'data_type': {'type': 'PixelType',\n",
              "    'precision': 'int',\n",
              "    'min': 0,\n",
              "    'max': 65535},\n",
              "   'dimensions': [7591, 7741],\n",
              "   'crs': 'EPSG:32637',\n",
              "   'crs_transform': [30, 0, 207285, 0, -30, 115815]},\n",
              "  {'id': 'SR_B2',\n",
              "   'data_type': {'type': 'PixelType',\n",
              "    'precision': 'int',\n",
              "    'min': 0,\n",
              "    'max': 65535},\n",
              "   'dimensions': [7591, 7741],\n",
              "   'crs': 'EPSG:32637',\n",
              "   'crs_transform': [30, 0, 207285, 0, -30, 115815]},\n",
              "  {'id': 'SR_B3',\n",
              "   'data_type': {'type': 'PixelType',\n",
              "    'precision': 'int',\n",
              "    'min': 0,\n",
              "    'max': 65535},\n",
              "   'dimensions': [7591, 7741],\n",
              "   'crs': 'EPSG:32637',\n",
              "   'crs_transform': [30, 0, 207285, 0, -30, 115815]},\n",
              "  {'id': 'SR_B4',\n",
              "   'data_type': {'type': 'PixelType',\n",
              "    'precision': 'int',\n",
              "    'min': 0,\n",
              "    'max': 65535},\n",
              "   'dimensions': [7591, 7741],\n",
              "   'crs': 'EPSG:32637',\n",
              "   'crs_transform': [30, 0, 207285, 0, -30, 115815]},\n",
              "  {'id': 'SR_B5',\n",
              "   'data_type': {'type': 'PixelType',\n",
              "    'precision': 'int',\n",
              "    'min': 0,\n",
              "    'max': 65535},\n",
              "   'dimensions': [7591, 7741],\n",
              "   'crs': 'EPSG:32637',\n",
              "   'crs_transform': [30, 0, 207285, 0, -30, 115815]},\n",
              "  {'id': 'SR_B6',\n",
              "   'data_type': {'type': 'PixelType',\n",
              "    'precision': 'int',\n",
              "    'min': 0,\n",
              "    'max': 65535},\n",
              "   'dimensions': [7591, 7741],\n",
              "   'crs': 'EPSG:32637',\n",
              "   'crs_transform': [30, 0, 207285, 0, -30, 115815]},\n",
              "  {'id': 'SR_B7',\n",
              "   'data_type': {'type': 'PixelType',\n",
              "    'precision': 'int',\n",
              "    'min': 0,\n",
              "    'max': 65535},\n",
              "   'dimensions': [7591, 7741],\n",
              "   'crs': 'EPSG:32637',\n",
              "   'crs_transform': [30, 0, 207285, 0, -30, 115815]},\n",
              "  {'id': 'SR_QA_AEROSOL',\n",
              "   'data_type': {'type': 'PixelType',\n",
              "    'precision': 'int',\n",
              "    'min': 0,\n",
              "    'max': 255},\n",
              "   'dimensions': [7591, 7741],\n",
              "   'crs': 'EPSG:32637',\n",
              "   'crs_transform': [30, 0, 207285, 0, -30, 115815]},\n",
              "  {'id': 'ST_B10',\n",
              "   'data_type': {'type': 'PixelType',\n",
              "    'precision': 'int',\n",
              "    'min': 0,\n",
              "    'max': 65535},\n",
              "   'dimensions': [7591, 7741],\n",
              "   'crs': 'EPSG:32637',\n",
              "   'crs_transform': [30, 0, 207285, 0, -30, 115815]},\n",
              "  {'id': 'ST_ATRAN',\n",
              "   'data_type': {'type': 'PixelType',\n",
              "    'precision': 'int',\n",
              "    'min': -32768,\n",
              "    'max': 32767},\n",
              "   'dimensions': [7591, 7741],\n",
              "   'crs': 'EPSG:32637',\n",
              "   'crs_transform': [30, 0, 207285, 0, -30, 115815]},\n",
              "  {'id': 'ST_CDIST',\n",
              "   'data_type': {'type': 'PixelType',\n",
              "    'precision': 'int',\n",
              "    'min': -32768,\n",
              "    'max': 32767},\n",
              "   'dimensions': [7591, 7741],\n",
              "   'crs': 'EPSG:32637',\n",
              "   'crs_transform': [30, 0, 207285, 0, -30, 115815]},\n",
              "  {'id': 'ST_DRAD',\n",
              "   'data_type': {'type': 'PixelType',\n",
              "    'precision': 'int',\n",
              "    'min': -32768,\n",
              "    'max': 32767},\n",
              "   'dimensions': [7591, 7741],\n",
              "   'crs': 'EPSG:32637',\n",
              "   'crs_transform': [30, 0, 207285, 0, -30, 115815]},\n",
              "  {'id': 'ST_EMIS',\n",
              "   'data_type': {'type': 'PixelType',\n",
              "    'precision': 'int',\n",
              "    'min': -32768,\n",
              "    'max': 32767},\n",
              "   'dimensions': [7591, 7741],\n",
              "   'crs': 'EPSG:32637',\n",
              "   'crs_transform': [30, 0, 207285, 0, -30, 115815]},\n",
              "  {'id': 'ST_EMSD',\n",
              "   'data_type': {'type': 'PixelType',\n",
              "    'precision': 'int',\n",
              "    'min': -32768,\n",
              "    'max': 32767},\n",
              "   'dimensions': [7591, 7741],\n",
              "   'crs': 'EPSG:32637',\n",
              "   'crs_transform': [30, 0, 207285, 0, -30, 115815]},\n",
              "  {'id': 'ST_QA',\n",
              "   'data_type': {'type': 'PixelType',\n",
              "    'precision': 'int',\n",
              "    'min': -32768,\n",
              "    'max': 32767},\n",
              "   'dimensions': [7591, 7741],\n",
              "   'crs': 'EPSG:32637',\n",
              "   'crs_transform': [30, 0, 207285, 0, -30, 115815]},\n",
              "  {'id': 'ST_TRAD',\n",
              "   'data_type': {'type': 'PixelType',\n",
              "    'precision': 'int',\n",
              "    'min': -32768,\n",
              "    'max': 32767},\n",
              "   'dimensions': [7591, 7741],\n",
              "   'crs': 'EPSG:32637',\n",
              "   'crs_transform': [30, 0, 207285, 0, -30, 115815]},\n",
              "  {'id': 'ST_URAD',\n",
              "   'data_type': {'type': 'PixelType',\n",
              "    'precision': 'int',\n",
              "    'min': -32768,\n",
              "    'max': 32767},\n",
              "   'dimensions': [7591, 7741],\n",
              "   'crs': 'EPSG:32637',\n",
              "   'crs_transform': [30, 0, 207285, 0, -30, 115815]},\n",
              "  {'id': 'QA_PIXEL',\n",
              "   'data_type': {'type': 'PixelType',\n",
              "    'precision': 'int',\n",
              "    'min': 0,\n",
              "    'max': 65535},\n",
              "   'dimensions': [7591, 7741],\n",
              "   'crs': 'EPSG:32637',\n",
              "   'crs_transform': [30, 0, 207285, 0, -30, 115815]},\n",
              "  {'id': 'QA_RADSAT',\n",
              "   'data_type': {'type': 'PixelType',\n",
              "    'precision': 'int',\n",
              "    'min': 0,\n",
              "    'max': 65535},\n",
              "   'dimensions': [7591, 7741],\n",
              "   'crs': 'EPSG:32637',\n",
              "   'crs_transform': [30, 0, 207285, 0, -30, 115815]}],\n",
              " 'id': 'LANDSAT/LC08/C02/T1_L2/LC08_168060_20211004',\n",
              " 'version': 1634388414580021,\n",
              " 'properties': {'DATA_SOURCE_ELEVATION': 'GLS2000',\n",
              "  'WRS_TYPE': 2,\n",
              "  'REFLECTANCE_ADD_BAND_1': -0.2,\n",
              "  'REFLECTANCE_ADD_BAND_2': -0.2,\n",
              "  'DATUM': 'WGS84',\n",
              "  'REFLECTANCE_ADD_BAND_3': -0.2,\n",
              "  'REFLECTANCE_ADD_BAND_4': -0.2,\n",
              "  'REFLECTANCE_ADD_BAND_5': -0.2,\n",
              "  'REFLECTANCE_ADD_BAND_6': -0.2,\n",
              "  'REFLECTANCE_ADD_BAND_7': -0.2,\n",
              "  'system:footprint': {'type': 'LinearRing',\n",
              "   'coordinates': [[36.75547657741034, 1.0183140697806912],\n",
              "    [36.75225339624774, 1.0033944280213107],\n",
              "    [36.74326658903803, 0.9614582228536357],\n",
              "    [36.73694303837718, 0.9317848702660029],\n",
              "    [36.71330114386205, 0.8205768757509909],\n",
              "    [36.60601709925684, 0.3155751026320566],\n",
              "    [36.50516992308906, -0.15952185435510668],\n",
              "    [36.391406108185606, -0.6944659753474955],\n",
              "    [36.83961463708168, -0.7915629073928879],\n",
              "    [38.01994850190279, -1.0471150040643213],\n",
              "    [38.02152679073153, -1.0471155199537168],\n",
              "    [38.03713979935103, -0.9747131979836081],\n",
              "    [38.04439519176752, -0.9407991004846133],\n",
              "    [38.22216927008073, -0.10630698189014755],\n",
              "    [38.39128146412322, 0.6911279654178292],\n",
              "    [38.36614309003329, 0.6965471988293156],\n",
              "    [37.86252296308653, 0.8047266424192989],\n",
              "    [37.303433766962286, 0.9247166964861985],\n",
              "    [36.76208759446957, 1.0407700120472205],\n",
              "    [36.760565404422216, 1.040768934404427],\n",
              "    [36.759551333593386, 1.036673397945068],\n",
              "    [36.75547657741034, 1.0183140697806912]]},\n",
              "  'REFLECTIVE_SAMPLES': 7591,\n",
              "  'GROUND_CONTROL_POINTS_VERSION': 5,\n",
              "  'SUN_AZIMUTH': 100.88745537,\n",
              "  'DATA_SOURCE_TIRS_STRAY_LIGHT_CORRECTION': 'TIRS',\n",
              "  'UTM_ZONE': 37,\n",
              "  'DATE_ACQUIRED': '2021-10-04',\n",
              "  'ELLIPSOID': 'WGS84',\n",
              "  'system:time_end': 1633333389869,\n",
              "  'DATA_SOURCE_PRESSURE': 'Calculated',\n",
              "  'LANDSAT_PRODUCT_ID': 'LC08_L2SP_168060_20211004_20211013_02_T1',\n",
              "  'STATION_ID': 'LGN',\n",
              "  'TEMPERATURE_ADD_BAND_ST_B10': 149,\n",
              "  'DATA_SOURCE_REANALYSIS': 'GEOS-5 FP-IT',\n",
              "  'REFLECTANCE_MULT_BAND_7': 2.75e-05,\n",
              "  'system:time_start': 1633333389869,\n",
              "  'REFLECTANCE_MULT_BAND_6': 2.75e-05,\n",
              "  'L1_PROCESSING_LEVEL': 'L1TP',\n",
              "  'PROCESSING_SOFTWARE_VERSION': 'LPGS_15.5.0',\n",
              "  'L1_DATE_PRODUCT_GENERATED': '2021-10-13T11:09:29Z',\n",
              "  'ORIENTATION': 'NORTH_UP',\n",
              "  'REFLECTANCE_MULT_BAND_1': 2.75e-05,\n",
              "  'WRS_ROW': 60,\n",
              "  'REFLECTANCE_MULT_BAND_3': 2.75e-05,\n",
              "  'REFLECTANCE_MULT_BAND_2': 2.75e-05,\n",
              "  'TARGET_WRS_ROW': 60,\n",
              "  'REFLECTANCE_MULT_BAND_5': 2.75e-05,\n",
              "  'REFLECTANCE_MULT_BAND_4': 2.75e-05,\n",
              "  'THERMAL_LINES': 7741,\n",
              "  'TIRS_SSM_POSITION_STATUS': 'ESTIMATED',\n",
              "  'GRID_CELL_SIZE_THERMAL': 30,\n",
              "  'IMAGE_QUALITY_TIRS': 9,\n",
              "  'TRUNCATION_OLI': 'UPPER',\n",
              "  'NADIR_OFFNADIR': 'NADIR',\n",
              "  'CLOUD_COVER': 20.08,\n",
              "  'REQUEST_ID': 'P7012fvyq26vi_00051',\n",
              "  'EARTH_SUN_DISTANCE': 1.0003375,\n",
              "  'GEOMETRIC_RMSE_VERIFY': 3.992,\n",
              "  'TIRS_SSM_MODEL': 'FINAL',\n",
              "  'COLLECTION_CATEGORY': 'T1',\n",
              "  'SCENE_CENTER_TIME': '07:43:09.8697470Z',\n",
              "  'GRID_CELL_SIZE_REFLECTIVE': 30,\n",
              "  'SUN_ELEVATION': 65.62199165,\n",
              "  'ALGORITHM_SOURCE_SURFACE_TEMPERATURE': 'st_1.3.0',\n",
              "  'TEMPERATURE_MAXIMUM_BAND_ST_B10': 372.999941,\n",
              "  'CLOUD_COVER_LAND': 20.08,\n",
              "  'GEOMETRIC_RMSE_MODEL': 5.83,\n",
              "  'ROLL_ANGLE': -0.001,\n",
              "  'COLLECTION_NUMBER': 2,\n",
              "  'DATE_PRODUCT_GENERATED': 1634124092000,\n",
              "  'L1_REQUEST_ID': 'P7012fvyq26vi_00051',\n",
              "  'DATA_SOURCE_OZONE': 'MODIS',\n",
              "  'SATURATION_BAND_1': 'Y',\n",
              "  'DATA_SOURCE_WATER_VAPOR': 'MODIS',\n",
              "  'SATURATION_BAND_2': 'Y',\n",
              "  'SATURATION_BAND_3': 'Y',\n",
              "  'IMAGE_QUALITY_OLI': 9,\n",
              "  'SATURATION_BAND_4': 'Y',\n",
              "  'LANDSAT_SCENE_ID': 'LC81680602021277LGN00',\n",
              "  'SATURATION_BAND_5': 'Y',\n",
              "  'MAP_PROJECTION': 'UTM',\n",
              "  'SATURATION_BAND_6': 'Y',\n",
              "  'SENSOR_ID': 'OLI_TIRS',\n",
              "  'SATURATION_BAND_7': 'Y',\n",
              "  'SATURATION_BAND_8': 'N',\n",
              "  'WRS_PATH': 168,\n",
              "  'SATURATION_BAND_9': 'N',\n",
              "  'TARGET_WRS_PATH': 168,\n",
              "  'L1_PROCESSING_SOFTWARE_VERSION': 'LPGS_15.5.0',\n",
              "  'TEMPERATURE_MULT_BAND_ST_B10': 0.00341802,\n",
              "  'L1_LANDSAT_PRODUCT_ID': 'LC08_L1TP_168060_20211004_20211013_02_T1',\n",
              "  'PROCESSING_LEVEL': 'L2SP',\n",
              "  'ALGORITHM_SOURCE_SURFACE_REFLECTANCE': 'LaSRC_1.5.0',\n",
              "  'GROUND_CONTROL_POINTS_MODEL': 560,\n",
              "  'SPACECRAFT_ID': 'LANDSAT_8',\n",
              "  'TEMPERATURE_MINIMUM_BAND_ST_B10': 149.003418,\n",
              "  'GEOMETRIC_RMSE_MODEL_Y': 4.349,\n",
              "  'REFLECTIVE_LINES': 7741,\n",
              "  'GEOMETRIC_RMSE_MODEL_X': 3.883,\n",
              "  'THERMAL_SAMPLES': 7591,\n",
              "  'system:asset_size': 1051430234,\n",
              "  'DATA_SOURCE_AIR_TEMPERATURE': 'MODIS',\n",
              "  'GROUND_CONTROL_POINTS_VERIFY': 175,\n",
              "  'system:index': 'LC08_168060_20211004'}}"
            ]
          },
          "metadata": {},
          "execution_count": 6
        }
      ]
    },
    {
      "cell_type": "code",
      "source": [
        "landsat.first().bandNames().getInfo()"
      ],
      "metadata": {
        "colab": {
          "base_uri": "https://localhost:8080/"
        },
        "id": "-WX5zjUQXKNC",
        "outputId": "fc54bfd2-0f09-4d83-bd92-7fbb98510e91"
      },
      "execution_count": 7,
      "outputs": [
        {
          "output_type": "execute_result",
          "data": {
            "text/plain": [
              "['SR_B1',\n",
              " 'SR_B2',\n",
              " 'SR_B3',\n",
              " 'SR_B4',\n",
              " 'SR_B5',\n",
              " 'SR_B6',\n",
              " 'SR_B7',\n",
              " 'SR_QA_AEROSOL',\n",
              " 'ST_B10',\n",
              " 'ST_ATRAN',\n",
              " 'ST_CDIST',\n",
              " 'ST_DRAD',\n",
              " 'ST_EMIS',\n",
              " 'ST_EMSD',\n",
              " 'ST_QA',\n",
              " 'ST_TRAD',\n",
              " 'ST_URAD',\n",
              " 'QA_PIXEL',\n",
              " 'QA_RADSAT']"
            ]
          },
          "metadata": {},
          "execution_count": 7
        }
      ]
    },
    {
      "cell_type": "code",
      "source": [
        "# image list\n",
        "landsat_list = landsat.toList(landsat.size());"
      ],
      "metadata": {
        "id": "9ax67K_IYW7S"
      },
      "execution_count": 8,
      "outputs": []
    },
    {
      "cell_type": "code",
      "source": [
        "# image display parameters\n",
        "img_params = {\n",
        "    \"min\": 7000,\n",
        "    \"max\": 16000,\n",
        "    \"dimensions\": 800, # square size in pixels\n",
        "    \"bands\": ['SR_B4', 'SR_B3', 'SR_B2'] # display bands (r, g, b)\n",
        "}"
      ],
      "metadata": {
        "id": "suf0OzJiY29j"
      },
      "execution_count": 9,
      "outputs": []
    },
    {
      "cell_type": "code",
      "source": [
        "data = []\n",
        "\n",
        "for i in range(landsat.size().getInfo()):\n",
        "  date_captured = ee.Image(landsat_list.get(i)).get('DATA_ACQUIRED').getInfo()\n",
        "  cloud_cover = ee.Image(landsat_list.get(i)).get('CLOUD_COVER').getInfo()\n",
        "\n",
        "  print(f\"Image >> {i, date_captured} cloud cover: {cloud_cover}\")\n",
        "\n",
        "  this_data = [i, date_captured, cloud_cover]\n",
        "  data.append(this_data)\n",
        "\n",
        "df = pd.DataFrame(data, columns = ['imageId', 'dataCaptured', 'cloudCover'])\n",
        "\n",
        "display(Image(url = ee.Image(landsat_list.get(24)).getThumbURL(img_params)))\n"
      ],
      "metadata": {
        "colab": {
          "base_uri": "https://localhost:8080/",
          "height": 1000
        },
        "id": "y9ilvhTaZ1yU",
        "outputId": "a40a057d-e219-4f53-ec2b-1715b2d75762"
      },
      "execution_count": 10,
      "outputs": [
        {
          "output_type": "stream",
          "name": "stdout",
          "text": [
            "Image >> (0, None) cloud cover: 20.08\n",
            "Image >> (1, None) cloud cover: 75.08\n",
            "Image >> (2, None) cloud cover: 19.23\n",
            "Image >> (3, None) cloud cover: 24.51\n",
            "Image >> (4, None) cloud cover: 27.67\n",
            "Image >> (5, None) cloud cover: 34.2\n",
            "Image >> (6, None) cloud cover: 40.66\n",
            "Image >> (7, None) cloud cover: 20.22\n",
            "Image >> (8, None) cloud cover: 1.5\n",
            "Image >> (9, None) cloud cover: 49.73\n",
            "Image >> (10, None) cloud cover: 0.15\n",
            "Image >> (11, None) cloud cover: 45.09\n",
            "Image >> (12, None) cloud cover: 37.6\n",
            "Image >> (13, None) cloud cover: 12.22\n",
            "Image >> (14, None) cloud cover: 22.58\n",
            "Image >> (15, None) cloud cover: 22.52\n",
            "Image >> (16, None) cloud cover: 20.07\n",
            "Image >> (17, None) cloud cover: 26.27\n",
            "Image >> (18, None) cloud cover: 59.58\n",
            "Image >> (19, None) cloud cover: 55.34\n",
            "Image >> (20, None) cloud cover: 9.16\n",
            "Image >> (21, None) cloud cover: 79.95\n",
            "Image >> (22, None) cloud cover: 24.16\n",
            "Image >> (23, None) cloud cover: 37.44\n",
            "Image >> (24, None) cloud cover: 24.27\n",
            "Image >> (25, None) cloud cover: 31.19\n",
            "Image >> (26, None) cloud cover: 73.29\n",
            "Image >> (27, None) cloud cover: 60.6\n",
            "Image >> (28, None) cloud cover: 26.34\n",
            "Image >> (29, None) cloud cover: 22.29\n",
            "Image >> (30, None) cloud cover: 0.73\n",
            "Image >> (31, None) cloud cover: 30.45\n",
            "Image >> (32, None) cloud cover: 72.27\n",
            "Image >> (33, None) cloud cover: 10.41\n",
            "Image >> (34, None) cloud cover: 39.9\n",
            "Image >> (35, None) cloud cover: 62.31\n",
            "Image >> (36, None) cloud cover: 23.78\n",
            "Image >> (37, None) cloud cover: 29.14\n",
            "Image >> (38, None) cloud cover: 38.59\n",
            "Image >> (39, None) cloud cover: 49.24\n",
            "Image >> (40, None) cloud cover: 36.7\n",
            "Image >> (41, None) cloud cover: 21.96\n",
            "Image >> (42, None) cloud cover: 4.14\n",
            "Image >> (43, None) cloud cover: 49.5\n",
            "Image >> (44, None) cloud cover: 52.65\n"
          ]
        },
        {
          "output_type": "display_data",
          "data": {
            "text/html": [
              "<img src=\"https://earthengine.googleapis.com/v1/projects/earthengine-legacy/thumbnails/48defd59c1eec39494455cbfe35c1ff8-4da7bd777bd0f283723df7a519144427:getPixels\"/>"
            ],
            "text/plain": [
              "<IPython.core.display.Image object>"
            ]
          },
          "metadata": {}
        }
      ]
    },
    {
      "cell_type": "code",
      "source": [
        "# define region of interest\n",
        "roi = poi.buffer(20000)\n",
        "img_params['region'] = roi"
      ],
      "metadata": {
        "id": "kV8ZMRxQdwxz"
      },
      "execution_count": 11,
      "outputs": []
    },
    {
      "cell_type": "code",
      "source": [
        "rows, cols = 5, 3\n",
        "for i in range(min(rows*cols, 15)):\n",
        "  date = ee.Image(landsat_list.get(i)).get('DATE_ACQUIRED').getInfo()\n",
        "  cloud = ee.Image(landsat_list.get(i)).get('CLOUD_COVER').getInfo()\n",
        "\n",
        "  print(f\"{i}: {date}, {cloud}\")\n",
        "  display(Image(url = ee.Image(landsat_list.get(i)).getThumbUrl(img_params)))"
      ],
      "metadata": {
        "colab": {
          "base_uri": "https://localhost:8080/",
          "height": 1000
        },
        "id": "nvPGmdBnfVzM",
        "outputId": "69098a0c-3e73-4484-a58a-465cb541526d"
      },
      "execution_count": 12,
      "outputs": [
        {
          "output_type": "stream",
          "name": "stdout",
          "text": [
            "0: 2021-10-04, 20.08\n"
          ]
        },
        {
          "output_type": "display_data",
          "data": {
            "text/html": [
              "<img src=\"https://earthengine.googleapis.com/v1/projects/earthengine-legacy/thumbnails/3e581b3e5d82091fa6ff1fc8b872a957-39606b035468229b8fc2c3fc527f7b87:getPixels\"/>"
            ],
            "text/plain": [
              "<IPython.core.display.Image object>"
            ]
          },
          "metadata": {}
        },
        {
          "output_type": "stream",
          "name": "stdout",
          "text": [
            "1: 2021-10-20, 75.08\n"
          ]
        },
        {
          "output_type": "display_data",
          "data": {
            "text/html": [
              "<img src=\"https://earthengine.googleapis.com/v1/projects/earthengine-legacy/thumbnails/3f512f1d19eb154f48cc5e57efc3096e-c530f0f27554a49dfb58b470809e501c:getPixels\"/>"
            ],
            "text/plain": [
              "<IPython.core.display.Image object>"
            ]
          },
          "metadata": {}
        },
        {
          "output_type": "stream",
          "name": "stdout",
          "text": [
            "2: 2021-11-05, 19.23\n"
          ]
        },
        {
          "output_type": "display_data",
          "data": {
            "text/html": [
              "<img src=\"https://earthengine.googleapis.com/v1/projects/earthengine-legacy/thumbnails/df58804c1caaa57b97013c64a7945cc1-b022ce0e1c4e7d6e0cf488872df3598a:getPixels\"/>"
            ],
            "text/plain": [
              "<IPython.core.display.Image object>"
            ]
          },
          "metadata": {}
        },
        {
          "output_type": "stream",
          "name": "stdout",
          "text": [
            "3: 2021-11-21, 24.51\n"
          ]
        },
        {
          "output_type": "display_data",
          "data": {
            "text/html": [
              "<img src=\"https://earthengine.googleapis.com/v1/projects/earthengine-legacy/thumbnails/50f295ba9bf4fbc2dc165d3946e1bc51-839afab597eacd45937eb265ab801e34:getPixels\"/>"
            ],
            "text/plain": [
              "<IPython.core.display.Image object>"
            ]
          },
          "metadata": {}
        },
        {
          "output_type": "stream",
          "name": "stdout",
          "text": [
            "4: 2021-12-07, 27.67\n"
          ]
        },
        {
          "output_type": "display_data",
          "data": {
            "text/html": [
              "<img src=\"https://earthengine.googleapis.com/v1/projects/earthengine-legacy/thumbnails/a817f5a485a973df2c79c5d400f0b714-434b10c3131efac82e9f596389eddd30:getPixels\"/>"
            ],
            "text/plain": [
              "<IPython.core.display.Image object>"
            ]
          },
          "metadata": {}
        },
        {
          "output_type": "stream",
          "name": "stdout",
          "text": [
            "5: 2021-12-23, 34.2\n"
          ]
        },
        {
          "output_type": "display_data",
          "data": {
            "text/html": [
              "<img src=\"https://earthengine.googleapis.com/v1/projects/earthengine-legacy/thumbnails/78916b41b30ee327b119723c2100bf21-7bff6ae2821780a813850248adbde776:getPixels\"/>"
            ],
            "text/plain": [
              "<IPython.core.display.Image object>"
            ]
          },
          "metadata": {}
        },
        {
          "output_type": "stream",
          "name": "stdout",
          "text": [
            "6: 2022-01-08, 40.66\n"
          ]
        },
        {
          "output_type": "display_data",
          "data": {
            "text/html": [
              "<img src=\"https://earthengine.googleapis.com/v1/projects/earthengine-legacy/thumbnails/ce90f3e7d1b582ecf632963430150f81-646fd9d815745d3927a42c4fb5c8fc99:getPixels\"/>"
            ],
            "text/plain": [
              "<IPython.core.display.Image object>"
            ]
          },
          "metadata": {}
        },
        {
          "output_type": "stream",
          "name": "stdout",
          "text": [
            "7: 2022-01-24, 20.22\n"
          ]
        },
        {
          "output_type": "display_data",
          "data": {
            "text/html": [
              "<img src=\"https://earthengine.googleapis.com/v1/projects/earthengine-legacy/thumbnails/9719010e7ce67e47689f9fbc3b066de7-fba88c5d455e22bbeccc33dc9a958c66:getPixels\"/>"
            ],
            "text/plain": [
              "<IPython.core.display.Image object>"
            ]
          },
          "metadata": {}
        },
        {
          "output_type": "stream",
          "name": "stdout",
          "text": [
            "8: 2022-02-09, 1.5\n"
          ]
        },
        {
          "output_type": "display_data",
          "data": {
            "text/html": [
              "<img src=\"https://earthengine.googleapis.com/v1/projects/earthengine-legacy/thumbnails/9b9ce22ec8f5c22b81c92fc985021022-9fc05912ab4e1f43bed73c2923712f90:getPixels\"/>"
            ],
            "text/plain": [
              "<IPython.core.display.Image object>"
            ]
          },
          "metadata": {}
        },
        {
          "output_type": "stream",
          "name": "stdout",
          "text": [
            "9: 2022-02-25, 49.73\n"
          ]
        },
        {
          "output_type": "display_data",
          "data": {
            "text/html": [
              "<img src=\"https://earthengine.googleapis.com/v1/projects/earthengine-legacy/thumbnails/e36c1bbcefe9fbc3b6640b3b98e0536f-4b2661d4a6a873723c012afd8f65f8a9:getPixels\"/>"
            ],
            "text/plain": [
              "<IPython.core.display.Image object>"
            ]
          },
          "metadata": {}
        },
        {
          "output_type": "stream",
          "name": "stdout",
          "text": [
            "10: 2022-03-13, 0.15\n"
          ]
        },
        {
          "output_type": "display_data",
          "data": {
            "text/html": [
              "<img src=\"https://earthengine.googleapis.com/v1/projects/earthengine-legacy/thumbnails/6d3dea80708fa2c78b55edc4c1ca5198-d29676c1e696420a71e8c9d33bf0a60e:getPixels\"/>"
            ],
            "text/plain": [
              "<IPython.core.display.Image object>"
            ]
          },
          "metadata": {}
        },
        {
          "output_type": "stream",
          "name": "stdout",
          "text": [
            "11: 2022-03-29, 45.09\n"
          ]
        },
        {
          "output_type": "display_data",
          "data": {
            "text/html": [
              "<img src=\"https://earthengine.googleapis.com/v1/projects/earthengine-legacy/thumbnails/c52bbd0225515f242b66d784558b36de-623fe1ba27c52654436ae32c8c350fe8:getPixels\"/>"
            ],
            "text/plain": [
              "<IPython.core.display.Image object>"
            ]
          },
          "metadata": {}
        },
        {
          "output_type": "stream",
          "name": "stdout",
          "text": [
            "12: 2022-04-14, 37.6\n"
          ]
        },
        {
          "output_type": "display_data",
          "data": {
            "text/html": [
              "<img src=\"https://earthengine.googleapis.com/v1/projects/earthengine-legacy/thumbnails/6d34067fc9705fcebe9af2884c5ba109-6da1ba04ff4b76c065e742ede7763e2b:getPixels\"/>"
            ],
            "text/plain": [
              "<IPython.core.display.Image object>"
            ]
          },
          "metadata": {}
        },
        {
          "output_type": "stream",
          "name": "stdout",
          "text": [
            "13: 2022-04-30, 12.22\n"
          ]
        },
        {
          "output_type": "display_data",
          "data": {
            "text/html": [
              "<img src=\"https://earthengine.googleapis.com/v1/projects/earthengine-legacy/thumbnails/d54ccc3bdab735d5c03d7efb38b39544-1f5c80a69bc47d21012aef65556b98c3:getPixels\"/>"
            ],
            "text/plain": [
              "<IPython.core.display.Image object>"
            ]
          },
          "metadata": {}
        },
        {
          "output_type": "stream",
          "name": "stdout",
          "text": [
            "14: 2022-05-16, 22.58\n"
          ]
        },
        {
          "output_type": "display_data",
          "data": {
            "text/html": [
              "<img src=\"https://earthengine.googleapis.com/v1/projects/earthengine-legacy/thumbnails/dfa770f62dcedc6cd048c479e93d0086-8eb8e64cdc2d0676b6e9a24010f7656c:getPixels\"/>"
            ],
            "text/plain": [
              "<IPython.core.display.Image object>"
            ]
          },
          "metadata": {}
        }
      ]
    },
    {
      "cell_type": "code",
      "source": [
        "\"\"\"\n",
        "NDVI = (NIR - RED) / (NIR + RED)\n",
        "NIR = Near Infrared (B5)\n",
        "\"\"\"\n",
        "palette = ['red', 'yellow', 'green']\n",
        "\n",
        "ndvi_params = {\n",
        "    'min': 0,\n",
        "    'max': 0.4,\n",
        "    'dimensions': 512,\n",
        "    'palette': palette,\n",
        "    'region': roi\n",
        "}"
      ],
      "metadata": {
        "id": "60MrAVJciEN6"
      },
      "execution_count": 13,
      "outputs": []
    },
    {
      "cell_type": "code",
      "source": [
        "rows, cols = 3, 3\n",
        "for i in range(min(rows*cols, 9)):\n",
        "  date = ee.Image(landsat_list.get(i)).get('DATE_ACQUIRED').getInfo()\n",
        "  cloud = ee.Image(landsat_list.get(i)).get('CLOUD_COVER').getInfo()\n",
        "\n",
        "  print(f\"{i}: {date}, {cloud}\")\n",
        "  display(Image(url = ee.Image(landsat_list.get(i)).normalizedDifference(['SR_B5', 'SR_B4']).getThumbUrl(ndvi_params)))"
      ],
      "metadata": {
        "colab": {
          "base_uri": "https://localhost:8080/",
          "height": 1000
        },
        "id": "3Ozi5boyLPZR",
        "outputId": "fd1c34a1-ac2b-494b-9bce-fd00bcd27210"
      },
      "execution_count": 14,
      "outputs": [
        {
          "output_type": "stream",
          "name": "stdout",
          "text": [
            "0: 2021-10-04, 20.08\n"
          ]
        },
        {
          "output_type": "display_data",
          "data": {
            "text/html": [
              "<img src=\"https://earthengine.googleapis.com/v1/projects/earthengine-legacy/thumbnails/b1e93cc2ccc3b255cd8b4b0335609ea7-739eb5e9c143c7957df9375aa855987a:getPixels\"/>"
            ],
            "text/plain": [
              "<IPython.core.display.Image object>"
            ]
          },
          "metadata": {}
        },
        {
          "output_type": "stream",
          "name": "stdout",
          "text": [
            "1: 2021-10-20, 75.08\n"
          ]
        },
        {
          "output_type": "display_data",
          "data": {
            "text/html": [
              "<img src=\"https://earthengine.googleapis.com/v1/projects/earthengine-legacy/thumbnails/bf617a5b875794fd73eef01634970907-0a3bb715434501f3c868c9be248a24c0:getPixels\"/>"
            ],
            "text/plain": [
              "<IPython.core.display.Image object>"
            ]
          },
          "metadata": {}
        },
        {
          "output_type": "stream",
          "name": "stdout",
          "text": [
            "2: 2021-11-05, 19.23\n"
          ]
        },
        {
          "output_type": "display_data",
          "data": {
            "text/html": [
              "<img src=\"https://earthengine.googleapis.com/v1/projects/earthengine-legacy/thumbnails/b6de00e1b088c5815767eed04c0d022b-4e846bc59917cb8a748743a431a6d2b2:getPixels\"/>"
            ],
            "text/plain": [
              "<IPython.core.display.Image object>"
            ]
          },
          "metadata": {}
        },
        {
          "output_type": "stream",
          "name": "stdout",
          "text": [
            "3: 2021-11-21, 24.51\n"
          ]
        },
        {
          "output_type": "display_data",
          "data": {
            "text/html": [
              "<img src=\"https://earthengine.googleapis.com/v1/projects/earthengine-legacy/thumbnails/a5a2c84912a9fe8ec78c44dcc2a42ab4-8d44b576cbbe39727ac14781dcdd2d83:getPixels\"/>"
            ],
            "text/plain": [
              "<IPython.core.display.Image object>"
            ]
          },
          "metadata": {}
        },
        {
          "output_type": "stream",
          "name": "stdout",
          "text": [
            "4: 2021-12-07, 27.67\n"
          ]
        },
        {
          "output_type": "display_data",
          "data": {
            "text/html": [
              "<img src=\"https://earthengine.googleapis.com/v1/projects/earthengine-legacy/thumbnails/25c5ca8a6378e3b8cb62e493b221cfff-52c56c5afb8b16e2c8d064ae185feeca:getPixels\"/>"
            ],
            "text/plain": [
              "<IPython.core.display.Image object>"
            ]
          },
          "metadata": {}
        },
        {
          "output_type": "stream",
          "name": "stdout",
          "text": [
            "5: 2021-12-23, 34.2\n"
          ]
        },
        {
          "output_type": "display_data",
          "data": {
            "text/html": [
              "<img src=\"https://earthengine.googleapis.com/v1/projects/earthengine-legacy/thumbnails/3c058cbf241437dc41ea17afc69e68f2-e12a1d866b19241ec015725644985fb0:getPixels\"/>"
            ],
            "text/plain": [
              "<IPython.core.display.Image object>"
            ]
          },
          "metadata": {}
        },
        {
          "output_type": "stream",
          "name": "stdout",
          "text": [
            "6: 2022-01-08, 40.66\n"
          ]
        },
        {
          "output_type": "display_data",
          "data": {
            "text/html": [
              "<img src=\"https://earthengine.googleapis.com/v1/projects/earthengine-legacy/thumbnails/de65f2b667d9c8b52eaf328d5b32bd46-6af5fcb2ca80008f4098f9f42f6c731e:getPixels\"/>"
            ],
            "text/plain": [
              "<IPython.core.display.Image object>"
            ]
          },
          "metadata": {}
        },
        {
          "output_type": "stream",
          "name": "stdout",
          "text": [
            "7: 2022-01-24, 20.22\n"
          ]
        },
        {
          "output_type": "display_data",
          "data": {
            "text/html": [
              "<img src=\"https://earthengine.googleapis.com/v1/projects/earthengine-legacy/thumbnails/37940bdc00f5abf34fce349dfd079655-0e3e346ab9d53cb0775afb5dbc9f8e45:getPixels\"/>"
            ],
            "text/plain": [
              "<IPython.core.display.Image object>"
            ]
          },
          "metadata": {}
        },
        {
          "output_type": "stream",
          "name": "stdout",
          "text": [
            "8: 2022-02-09, 1.5\n"
          ]
        },
        {
          "output_type": "display_data",
          "data": {
            "text/html": [
              "<img src=\"https://earthengine.googleapis.com/v1/projects/earthengine-legacy/thumbnails/351bc1acbb9376c954d218fc010d2585-cbde63c5009891f879b37a1f923c93b8:getPixels\"/>"
            ],
            "text/plain": [
              "<IPython.core.display.Image object>"
            ]
          },
          "metadata": {}
        }
      ]
    },
    {
      "cell_type": "code",
      "source": [
        "folium.Map(location = (lat, lon))"
      ],
      "metadata": {
        "colab": {
          "base_uri": "https://localhost:8080/",
          "height": 643
        },
        "id": "8EUtfpO1Lj7D",
        "outputId": "0a863cca-b3b5-40e9-a254-0da7814e613f"
      },
      "execution_count": 15,
      "outputs": [
        {
          "output_type": "execute_result",
          "data": {
            "text/plain": [
              "<folium.folium.Map at 0x7dee20597910>"
            ],
            "text/html": [
              "<div style=\"width:100%;\"><div style=\"position:relative;width:100%;height:0;padding-bottom:60%;\"><span style=\"color:#565656\">Make this Notebook Trusted to load map: File -> Trust Notebook</span><iframe srcdoc=\"&lt;!DOCTYPE html&gt;\n",
              "&lt;html&gt;\n",
              "&lt;head&gt;\n",
              "    \n",
              "    &lt;meta http-equiv=&quot;content-type&quot; content=&quot;text/html; charset=UTF-8&quot; /&gt;\n",
              "    \n",
              "        &lt;script&gt;\n",
              "            L_NO_TOUCH = false;\n",
              "            L_DISABLE_3D = false;\n",
              "        &lt;/script&gt;\n",
              "    \n",
              "    &lt;style&gt;html, body {width: 100%;height: 100%;margin: 0;padding: 0;}&lt;/style&gt;\n",
              "    &lt;style&gt;#map {position:absolute;top:0;bottom:0;right:0;left:0;}&lt;/style&gt;\n",
              "    &lt;script src=&quot;https://cdn.jsdelivr.net/npm/leaflet@1.9.3/dist/leaflet.js&quot;&gt;&lt;/script&gt;\n",
              "    &lt;script src=&quot;https://code.jquery.com/jquery-1.12.4.min.js&quot;&gt;&lt;/script&gt;\n",
              "    &lt;script src=&quot;https://cdn.jsdelivr.net/npm/bootstrap@5.2.2/dist/js/bootstrap.bundle.min.js&quot;&gt;&lt;/script&gt;\n",
              "    &lt;script src=&quot;https://cdnjs.cloudflare.com/ajax/libs/Leaflet.awesome-markers/2.0.2/leaflet.awesome-markers.js&quot;&gt;&lt;/script&gt;\n",
              "    &lt;link rel=&quot;stylesheet&quot; href=&quot;https://cdn.jsdelivr.net/npm/leaflet@1.9.3/dist/leaflet.css&quot;/&gt;\n",
              "    &lt;link rel=&quot;stylesheet&quot; href=&quot;https://cdn.jsdelivr.net/npm/bootstrap@5.2.2/dist/css/bootstrap.min.css&quot;/&gt;\n",
              "    &lt;link rel=&quot;stylesheet&quot; href=&quot;https://netdna.bootstrapcdn.com/bootstrap/3.0.0/css/bootstrap.min.css&quot;/&gt;\n",
              "    &lt;link rel=&quot;stylesheet&quot; href=&quot;https://cdn.jsdelivr.net/npm/@fortawesome/fontawesome-free@6.2.0/css/all.min.css&quot;/&gt;\n",
              "    &lt;link rel=&quot;stylesheet&quot; href=&quot;https://cdnjs.cloudflare.com/ajax/libs/Leaflet.awesome-markers/2.0.2/leaflet.awesome-markers.css&quot;/&gt;\n",
              "    &lt;link rel=&quot;stylesheet&quot; href=&quot;https://cdn.jsdelivr.net/gh/python-visualization/folium/folium/templates/leaflet.awesome.rotate.min.css&quot;/&gt;\n",
              "    \n",
              "            &lt;meta name=&quot;viewport&quot; content=&quot;width=device-width,\n",
              "                initial-scale=1.0, maximum-scale=1.0, user-scalable=no&quot; /&gt;\n",
              "            &lt;style&gt;\n",
              "                #map_7a23ff1331fe951d7608ca7c7dc05440 {\n",
              "                    position: relative;\n",
              "                    width: 100.0%;\n",
              "                    height: 100.0%;\n",
              "                    left: 0.0%;\n",
              "                    top: 0.0%;\n",
              "                }\n",
              "                .leaflet-container { font-size: 1rem; }\n",
              "            &lt;/style&gt;\n",
              "        \n",
              "&lt;/head&gt;\n",
              "&lt;body&gt;\n",
              "    \n",
              "    \n",
              "            &lt;div class=&quot;folium-map&quot; id=&quot;map_7a23ff1331fe951d7608ca7c7dc05440&quot; &gt;&lt;/div&gt;\n",
              "        \n",
              "&lt;/body&gt;\n",
              "&lt;script&gt;\n",
              "    \n",
              "    \n",
              "            var map_7a23ff1331fe951d7608ca7c7dc05440 = L.map(\n",
              "                &quot;map_7a23ff1331fe951d7608ca7c7dc05440&quot;,\n",
              "                {\n",
              "                    center: [-0.077199, 37.4041],\n",
              "                    crs: L.CRS.EPSG3857,\n",
              "                    zoom: 10,\n",
              "                    zoomControl: true,\n",
              "                    preferCanvas: false,\n",
              "                }\n",
              "            );\n",
              "\n",
              "            \n",
              "\n",
              "        \n",
              "    \n",
              "            var tile_layer_250c871d695ec2370d884d71f401234b = L.tileLayer(\n",
              "                &quot;https://{s}.tile.openstreetmap.org/{z}/{x}/{y}.png&quot;,\n",
              "                {&quot;attribution&quot;: &quot;Data by \\u0026copy; \\u003ca target=\\&quot;_blank\\&quot; href=\\&quot;http://openstreetmap.org\\&quot;\\u003eOpenStreetMap\\u003c/a\\u003e, under \\u003ca target=\\&quot;_blank\\&quot; href=\\&quot;http://www.openstreetmap.org/copyright\\&quot;\\u003eODbL\\u003c/a\\u003e.&quot;, &quot;detectRetina&quot;: false, &quot;maxNativeZoom&quot;: 18, &quot;maxZoom&quot;: 18, &quot;minZoom&quot;: 0, &quot;noWrap&quot;: false, &quot;opacity&quot;: 1, &quot;subdomains&quot;: &quot;abc&quot;, &quot;tms&quot;: false}\n",
              "            ).addTo(map_7a23ff1331fe951d7608ca7c7dc05440);\n",
              "        \n",
              "&lt;/script&gt;\n",
              "&lt;/html&gt;\" style=\"position:absolute;width:100%;height:100%;left:0;top:0;border:none !important;\" allowfullscreen webkitallowfullscreen mozallowfullscreen></iframe></div></div>"
            ]
          },
          "metadata": {},
          "execution_count": 15
        }
      ]
    },
    {
      "cell_type": "code",
      "source": [
        "mt_map = folium.Map(location = [lat, lon], zoom_start = 10)\n",
        "\n",
        "for i in range(10, 17):\n",
        "  date = ee.Image(landsat_list.get(i)).get('DATE_ACQUIRED').getInfo()\n",
        "  foliumgee.add_ee_layer(mt_map, ee.Image(landsat_list.get(i)).normalizedDifference(['SR_B5', 'SR_B4']), ndvi_params, name = date)\n",
        "\n",
        "folium.LayerControl(collapsed = False).add_to(mt_map)\n",
        "\n",
        "display(mt_map)"
      ],
      "metadata": {
        "id": "qi3lDi-QNLxD"
      },
      "execution_count": null,
      "outputs": []
    },
    {
      "cell_type": "code",
      "source": [],
      "metadata": {
        "id": "bOSkeAeORk0A"
      },
      "execution_count": null,
      "outputs": []
    }
  ]
}